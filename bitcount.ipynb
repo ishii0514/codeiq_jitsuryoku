{
 "cells": [
  {
   "cell_type": "code",
   "execution_count": 11,
   "metadata": {
    "collapsed": false
   },
   "outputs": [
    {
     "name": "stdout",
     "output_type": "stream",
     "text": [
      "10 2\n",
      "5\n"
     ]
    }
   ],
   "source": [
    "def bit_count(n, m):\n",
    "    count = 0\n",
    "    for i in range(n+1):\n",
    "        if count_one(i) == m:\n",
    "            count += 1\n",
    "    return count\n",
    "\n",
    "def count_one(n):\n",
    "    return bin(n).count('1')\n",
    "\n",
    "data = input().split()\n",
    "n = int(data[0])\n",
    "m = int(data[1])\n",
    "\n",
    "print(bit_count(n,m))"
   ]
  },
  {
   "cell_type": "code",
   "execution_count": null,
   "metadata": {
    "collapsed": true
   },
   "outputs": [],
   "source": []
  }
 ],
 "metadata": {
  "kernelspec": {
   "display_name": "Python 3",
   "language": "python",
   "name": "python3"
  },
  "language_info": {
   "codemirror_mode": {
    "name": "ipython",
    "version": 3
   },
   "file_extension": ".py",
   "mimetype": "text/x-python",
   "name": "python",
   "nbconvert_exporter": "python",
   "pygments_lexer": "ipython3",
   "version": "3.5.2"
  }
 },
 "nbformat": 4,
 "nbformat_minor": 1
}
