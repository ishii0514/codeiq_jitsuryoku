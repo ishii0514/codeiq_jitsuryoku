{
 "cells": [
  {
   "cell_type": "code",
   "execution_count": 34,
   "metadata": {
    "collapsed": false,
    "scrolled": false
   },
   "outputs": [],
   "source": [
    "max_value = 1000\n",
    "coin_types =[500,100,50,10,5,1]\n",
    "def pattern_count(n, i=0):\n",
    "    curr_num = 0\n",
    "    curr_i = i \n",
    "    for  y in coin_types[i:]:\n",
    "        curr_n = n - y\n",
    "        if  curr_n > 0:\n",
    "            curr_num += pattern_count(curr_n, curr_i)\n",
    "        elif curr_n == 0:\n",
    "            curr_num += 1\n",
    "        curr_i +=1\n",
    "        \n",
    "    return curr_num\n",
    "\n",
    "\n",
    "memo = [[-1 for i in range(len(coin_types))] for j in range(max_value)]\n",
    "def pattern_count_memo(n, i=0):\n",
    "    if memo[n-1][i] != -1:\n",
    "        return memo[n-1][i]\n",
    "    curr_num = 0\n",
    "    curr_i = i \n",
    "    for  y in coin_types[i:]:\n",
    "        curr_n = n - y\n",
    "        if  curr_n > 0:\n",
    "            curr_num += pattern_count_memo(curr_n, curr_i)\n",
    "        elif curr_n == 0:\n",
    "            curr_num += 1\n",
    "        curr_i +=1\n",
    "    memo[n-1][i] = curr_num\n",
    "    return curr_num"
   ]
  },
  {
   "cell_type": "code",
   "execution_count": 36,
   "metadata": {
    "collapsed": false
   },
   "outputs": [
    {
     "name": "stdout",
     "output_type": "stream",
     "text": [
      "1000\n",
      "248908\n"
     ]
    }
   ],
   "source": [
    "data = input().split()\n",
    "n = int(data[0])\n",
    "\n",
    "#print(pattern_count(n))\n",
    "print(pattern_count_memo(n))"
   ]
  },
  {
   "cell_type": "code",
   "execution_count": 33,
   "metadata": {
    "collapsed": false
   },
   "outputs": [
    {
     "name": "stdout",
     "output_type": "stream",
     "text": [
      "p-10 4\n",
      "p-11 4\n",
      "p-12 4\n",
      "p-13 4\n",
      "p-14 4\n",
      "p-15 6\n",
      "p-16 6\n",
      "p-20 9\n",
      "pm-10 4\n",
      "pm-11 4\n",
      "pm-12 4\n",
      "pm-13 4\n",
      "pm-14 4\n",
      "pm-15 6\n",
      "pm-16 6\n",
      "pm-20 9\n"
     ]
    }
   ],
   "source": [
    "print('p-10', pattern_count(10))\n",
    "print('p-11', pattern_count(11))\n",
    "print('p-12', pattern_count(12))\n",
    "print('p-13', pattern_count(13))\n",
    "print('p-14', pattern_count(14))\n",
    "print('p-15', pattern_count(15))\n",
    "print('p-16', pattern_count(16))\n",
    "print('p-20', pattern_count(20))\n",
    "print('pm-10', pattern_count_memo(10))\n",
    "print('pm-11', pattern_count_memo(11))\n",
    "print('pm-12', pattern_count_memo(12))\n",
    "print('pm-13', pattern_count_memo(13))\n",
    "print('pm-14', pattern_count_memo(14))\n",
    "print('pm-15', pattern_count_memo(15))\n",
    "print('pm-16', pattern_count_memo(16))\n",
    "print('pm-20', pattern_count_memo(20))"
   ]
  },
  {
   "cell_type": "code",
   "execution_count": null,
   "metadata": {
    "collapsed": true
   },
   "outputs": [],
   "source": []
  }
 ],
 "metadata": {
  "kernelspec": {
   "display_name": "Python 3",
   "language": "python",
   "name": "python3"
  },
  "language_info": {
   "codemirror_mode": {
    "name": "ipython",
    "version": 3
   },
   "file_extension": ".py",
   "mimetype": "text/x-python",
   "name": "python",
   "nbconvert_exporter": "python",
   "pygments_lexer": "ipython3",
   "version": "3.5.2"
  }
 },
 "nbformat": 4,
 "nbformat_minor": 1
}
