{
 "cells": [
  {
   "cell_type": "code",
   "execution_count": 5,
   "metadata": {
    "collapsed": false
   },
   "outputs": [
    {
     "name": "stdout",
     "output_type": "stream",
     "text": [
      "[1, 2, 3]\n",
      "[4, 10, 6]\n",
      "[1, 2, 3]\n",
      "[4, 10, 6]\n",
      "[1, 2, 3]\n",
      "[4, 20, 6]\n"
     ]
    }
   ],
   "source": [
    "def x(y):\n",
    "    y[1][1] = y[1][1]*2\n",
    "    \n",
    "a= [\n",
    "    [1,2,3],\n",
    "    [4,5,6]\n",
    "]\n",
    "\n",
    "b = a\n",
    "x(b)\n",
    "for row in a:\n",
    "    print(row)\n",
    "\n",
    "c = [row.copy()  for row in a]\n",
    "x(c)\n",
    "for row in a:\n",
    "    print(row)\n",
    "for row in c:\n",
    "    print(row)"
   ]
  },
  {
   "cell_type": "code",
   "execution_count": 11,
   "metadata": {
    "collapsed": false
   },
   "outputs": [
    {
     "name": "stdout",
     "output_type": "stream",
     "text": [
      "(2, 'b')\n"
     ]
    }
   ],
   "source": [
    "import heapq\n",
    "h = []\n",
    "heapq.heappush(h , (4,'a'))\n",
    "heapq.heappush(h , (2,'b'))\n",
    "x =heapq.heappop(h)\n",
    "print(x)"
   ]
  },
  {
   "cell_type": "code",
   "execution_count": null,
   "metadata": {
    "collapsed": true
   },
   "outputs": [],
   "source": []
  }
 ],
 "metadata": {
  "kernelspec": {
   "display_name": "Python 3",
   "language": "python",
   "name": "python3"
  },
  "language_info": {
   "codemirror_mode": {
    "name": "ipython",
    "version": 3
   },
   "file_extension": ".py",
   "mimetype": "text/x-python",
   "name": "python",
   "nbconvert_exporter": "python",
   "pygments_lexer": "ipython3",
   "version": "3.5.2"
  }
 },
 "nbformat": 4,
 "nbformat_minor": 1
}
