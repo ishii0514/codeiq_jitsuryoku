{
 "cells": [
  {
   "cell_type": "code",
   "execution_count": 5,
   "metadata": {
    "collapsed": false
   },
   "outputs": [
    {
     "name": "stdout",
     "output_type": "stream",
     "text": [
      "[1, 2, 3]\n",
      "[4, 10, 6]\n",
      "[1, 2, 3]\n",
      "[4, 10, 6]\n",
      "[1, 2, 3]\n",
      "[4, 20, 6]\n"
     ]
    }
   ],
   "source": [
    "def x(y):\n",
    "    y[1][1] = y[1][1]*2\n",
    "    \n",
    "a= [\n",
    "    [1,2,3],\n",
    "    [4,5,6]\n",
    "]\n",
    "\n",
    "b = a\n",
    "x(b)\n",
    "for row in a:\n",
    "    print(row)\n",
    "\n",
    "c = [row.copy()  for row in a]\n",
    "x(c)\n",
    "for row in a:\n",
    "    print(row)\n",
    "for row in c:\n",
    "    print(row)"
   ]
  },
  {
   "cell_type": "code",
   "execution_count": 11,
   "metadata": {
    "collapsed": false
   },
   "outputs": [
    {
     "name": "stdout",
     "output_type": "stream",
     "text": [
      "(2, 'b')\n"
     ]
    }
   ],
   "source": [
    "import heapq\n",
    "h = []\n",
    "heapq.heappush(h , (4,'a'))\n",
    "heapq.heappush(h , (2,'b'))\n",
    "x =heapq.heappop(h)\n",
    "print(x)"
   ]
  },
  {
   "cell_type": "code",
   "execution_count": 20,
   "metadata": {
    "collapsed": false
   },
   "outputs": [
    {
     "name": "stdout",
     "output_type": "stream",
     "text": [
      "True\n",
      "0 0 -1\n"
     ]
    }
   ],
   "source": [
    "import heapq as hq\n",
    "\n",
    "class Node(object):\n",
    "    def __init__(self, m=0, n=0):\n",
    "        self.m = m\n",
    "        self.n = n\n",
    "        self.cost = -1\n",
    "        self.done = False\n",
    "        self.front = ''\n",
    "    \n",
    "    def __lt__(self,other):\n",
    "        if self.cost != other.cost:\n",
    "            return self.cost < other.cost\n",
    "        # 進んでいる方が前に来るようにする\n",
    "        return (self.m, self.n) >  (other.m, other.n)\n",
    "    \n",
    "    def __eq__(self, other):\n",
    "        return self.m == other.m and self.n == other.n\n",
    "        \n",
    "q = []\n",
    "n1 = Node()\n",
    "n2 = Node(1,2)\n",
    "hq.heappush(q,n1)\n",
    "hq.heappush(q,n2)\n",
    "#for x in q:\n",
    "#    print(x.m,x.n,x.cost)\n",
    "\n",
    "n3 = Node(1,2)\n",
    "print(n3 in q)\n",
    "q.remove(n2)\n",
    "for x in q:\n",
    "    print(x.m, x.n, x.cost)\n",
    "    \n",
    "# x= hq.heappop(q)\n",
    "# print(x.m, x.n, x.cost)\n",
    "# x= hq.heappop(q)\n",
    "# print(x.m, x.n, x.cost)\n",
    "\n"
   ]
  },
  {
   "cell_type": "code",
   "execution_count": null,
   "metadata": {
    "collapsed": true
   },
   "outputs": [],
   "source": []
  }
 ],
 "metadata": {
  "kernelspec": {
   "display_name": "Python 3",
   "language": "python",
   "name": "python3"
  },
  "language_info": {
   "codemirror_mode": {
    "name": "ipython",
    "version": 3
   },
   "file_extension": ".py",
   "mimetype": "text/x-python",
   "name": "python",
   "nbconvert_exporter": "python",
   "pygments_lexer": "ipython3",
   "version": "3.5.2"
  }
 },
 "nbformat": 4,
 "nbformat_minor": 1
}
